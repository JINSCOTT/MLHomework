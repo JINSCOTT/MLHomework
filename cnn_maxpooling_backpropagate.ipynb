{
  "nbformat": 4,
  "nbformat_minor": 0,
  "metadata": {
    "colab": {
      "name": "cnn_maxpooling_backpropagate.ipynb",
      "provenance": [],
      "collapsed_sections": []
    },
    "kernelspec": {
      "name": "python3",
      "display_name": "Python 3"
    },
    "language_info": {
      "name": "python"
    }
  },
  "cells": [
    {
      "cell_type": "code",
      "source": [
        "import tensorflow as tf\n",
        "from tensorflow.keras import backend as K\n",
        "import numpy as np\n",
        "from numpy import zeros, newaxis\n",
        "import tensorboard\n",
        "\n",
        "\n",
        "model = tf.keras.models.Sequential([\n",
        "  tf.keras.layers.Conv2D(1,3,(1,1),'SAME', activation=None,use_bias=False,input_shape=(4,4,1)),\n",
        "  tf.keras.layers.ReLU(),\n",
        "  tf.keras.layers.MaxPool2D(strides =2),\n",
        "  tf.keras.layers.Flatten(),\n",
        "  tf.keras.layers.Dense(2,activation='sigmoid',use_bias=False),\n",
        "  tf.keras.layers.Dense(2, activation='sigmoid',use_bias=False),\n",
        "  tf.keras.layers.Softmax()\n",
        "])\n",
        "# weight init\n",
        "weights0 = np.array([[0.,-1.,0.],[ -1.,4.,-1.],[ 0.,-1.,0.]]) # CNN\n",
        "weights0 = weights0[...,newaxis]\n",
        "weights0 = weights0[...,newaxis]\n",
        "model.layers[0].set_weights([weights0])\n",
        "weights1 = np.array([[0.1,0.05],[ -0.05,-0.02,],[ 0.05, 0.03,],[ -0.02,-0.07]]) #D1\n",
        "model.layers[4].set_weights([weights1])\n",
        "weights2 = np.array([[-0.4,0.5],[-1,-0.5]])#D2\n",
        "model.layers[5].set_weights([weights2])\n",
        "# input \n",
        "input = np.array([[10,10,10,10],[10,30,10,30],[10,10,10,10],[10,10,10,20]])\n",
        "input = np.expand_dims(input, axis=0)\n",
        "\n",
        "\n",
        "\n",
        "for layerIndex, layer in enumerate(model.layers):\n",
        "    func = K.function([model.get_layer(index=0).input], layer.output)\n",
        "    layerOutput = func([input]) \n",
        "    print(layerOutput)\n",
        "\n"
      ],
      "metadata": {
        "colab": {
          "base_uri": "https://localhost:8080/"
        },
        "id": "2nRMiIqBTvK8",
        "outputId": "d353a777-ec81-4dd7-a65e-5fa5be03ca92"
      },
      "execution_count": 84,
      "outputs": [
        {
          "output_type": "stream",
          "name": "stdout",
          "text": [
            "[[[[ 20.]\n",
            "   [-10.]\n",
            "   [ 10.]\n",
            "   [  0.]]\n",
            "\n",
            "  [[-10.]\n",
            "   [ 80.]\n",
            "   [-40.]\n",
            "   [ 90.]]\n",
            "\n",
            "  [[ 10.]\n",
            "   [-20.]\n",
            "   [  0.]\n",
            "   [-20.]]\n",
            "\n",
            "  [[ 20.]\n",
            "   [ 10.]\n",
            "   [  0.]\n",
            "   [ 60.]]]]\n",
            "[[[[20.]\n",
            "   [ 0.]\n",
            "   [10.]\n",
            "   [ 0.]]\n",
            "\n",
            "  [[ 0.]\n",
            "   [80.]\n",
            "   [ 0.]\n",
            "   [90.]]\n",
            "\n",
            "  [[10.]\n",
            "   [ 0.]\n",
            "   [ 0.]\n",
            "   [ 0.]]\n",
            "\n",
            "  [[20.]\n",
            "   [10.]\n",
            "   [ 0.]\n",
            "   [60.]]]]\n",
            "[[[[80.]\n",
            "   [90.]]\n",
            "\n",
            "  [[20.]\n",
            "   [60.]]]]\n",
            "[[80. 90. 20. 60.]]\n",
            "[[0.96442884 0.1978161 ]]\n",
            "[[0.3581075 0.5946703]]\n",
            "[[0.4411336  0.55886644]]\n"
          ]
        }
      ]
    }
  ]
}